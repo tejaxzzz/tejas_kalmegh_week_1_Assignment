{
 "cells": [
  {
   "cell_type": "code",
   "execution_count": 1,
   "id": "42a71288",
   "metadata": {},
   "outputs": [
    {
     "name": "stdout",
     "output_type": "stream",
     "text": [
      "Enter first number4\n",
      "Enter second number2\n",
      "Addition of Two Number : 6.0\n",
      "Substraction of Two Number 2.0\n",
      "Multiplication of Two Number 8.0\n",
      "Division of Two Number 2.0\n"
     ]
    }
   ],
   "source": [
    "#Assigning a & b variables to store the value\n",
    "a = float(input(\"Enter first number\"))\n",
    "b = float(input(\"Enter second number\"))\n",
    "#Printing values using Arithmetic Operations\n",
    "print (\"Addition of Two Number :\", a+b)\n",
    "print (\"Substraction of Two Number\", a-b)\n",
    "print(\"Multiplication of Two Number\", a*b)\n",
    "print(\"Division of Two Number\", a/b)\n",
    "\n"
   ]
  },
  {
   "cell_type": "code",
   "execution_count": 2,
   "id": "cc01adfa",
   "metadata": {},
   "outputs": [
    {
     "name": "stdout",
     "output_type": "stream",
     "text": [
      "Enter any number :2\n",
      "The number is Positive.\n"
     ]
    }
   ],
   "source": [
    "#Assigning variable i.e \"number\" in which the user will put input\n",
    "number = float(input(\"Enter any number :\"))\n",
    "#Using Conditional Statments to check whether the number is Positive, Negative Or Zero\n",
    "if number>0 :\n",
    "    print(\"The number is Positive.\")\n",
    "elif number<0:\n",
    "    print(\"The number is Negative.\")\n",
    "else:\n",
    "    print(\"The number is Zero.\")"
   ]
  },
  {
   "cell_type": "code",
   "execution_count": 3,
   "id": "d6a08a3e",
   "metadata": {},
   "outputs": [
    {
     "name": "stdout",
     "output_type": "stream",
     "text": [
      "Enter Anything:2,a,3,4,5\n",
      "Reversed Script 5,4,3,a,2\n"
     ]
    }
   ],
   "source": [
    "  #Taking any script to reverse\n",
    "a = input(\"Enter Anything:\")\n",
    "#Reverse the sequence using slicing\n",
    "reversed_script = a [::-1]\n",
    "print(\"Reversed Script\", reversed_script)"
   ]
  },
  {
   "cell_type": "code",
   "execution_count": null,
   "id": "cc5d0f8e",
   "metadata": {},
   "outputs": [],
   "source": []
  }
 ],
 "metadata": {
  "kernelspec": {
   "display_name": "Python 3 (ipykernel)",
   "language": "python",
   "name": "python3"
  },
  "language_info": {
   "codemirror_mode": {
    "name": "ipython",
    "version": 3
   },
   "file_extension": ".py",
   "mimetype": "text/x-python",
   "name": "python",
   "nbconvert_exporter": "python",
   "pygments_lexer": "ipython3",
   "version": "3.10.9"
  }
 },
 "nbformat": 4,
 "nbformat_minor": 5
}
